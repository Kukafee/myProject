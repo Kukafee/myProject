{
 "cells": [
  {
   "cell_type": "code",
   "execution_count": 1,
   "metadata": {},
   "outputs": [],
   "source": [
    "import numpy as np\n",
    "import pandas as pd\n",
    "import time\n",
    "import os\n",
    "import openpyxl\n",
    "import xlrd\n",
    "import matplotlib.pyplot as plt\n",
    "from pandas import Series, DataFrame\n"
   ]
  },
  {
   "cell_type": "code",
   "execution_count": 3,
   "metadata": {},
   "outputs": [],
   "source": [
    "test_dict = {'id':[1,2,3,4,5,6],'name':['Alice','Bob','Cindy','Eric','Helen','Grace '],'math':[90,89,99,78,97,93],'english':[89,94,80,94,94,90]}\n",
    "#[1].直接写入参数test_dict\n",
    "test_df = pd.DataFrame(test_dict)"
   ]
  },
  {
   "cell_type": "code",
   "execution_count": 4,
   "metadata": {},
   "outputs": [
    {
     "name": "stdout",
     "output_type": "stream",
     "text": [
      "   id    name  math  english\n",
      "0   1   Alice    90       89\n",
      "1   2     Bob    89       94\n",
      "2   3   Cindy    99       80\n",
      "3   4    Eric    78       94\n",
      "4   5   Helen    97       94\n",
      "5   6  Grace     93       90\n"
     ]
    }
   ],
   "source": [
    "print(test_df)"
   ]
  },
  {
   "cell_type": "code",
   "execution_count": 23,
   "metadata": {},
   "outputs": [],
   "source": [
    "test_df['new'] = ''"
   ]
  },
  {
   "cell_type": "code",
   "execution_count": 24,
   "metadata": {},
   "outputs": [
    {
     "name": "stdout",
     "output_type": "stream",
     "text": [
      "   id    name  math  english now new\n",
      "0   1   Alice    90       89        \n",
      "1   2     Bob    89       94        \n",
      "2   3   Cindy    99       80        \n",
      "3   4    Eric    78       94        \n",
      "4   5   Helen    97       94        \n",
      "5   6  Grace     93       90        \n"
     ]
    }
   ],
   "source": [
    "print(test_df)"
   ]
  },
  {
   "cell_type": "code",
   "execution_count": 16,
   "metadata": {
    "scrolled": true
   },
   "outputs": [
    {
     "name": "stdout",
     "output_type": "stream",
     "text": [
      "6\n"
     ]
    }
   ],
   "source": [
    "print(len(test_df))"
   ]
  },
  {
   "cell_type": "code",
   "execution_count": 19,
   "metadata": {},
   "outputs": [
    {
     "name": "stdout",
     "output_type": "stream",
     "text": [
      "0 Alice_90\n",
      "<class 'str'>\n",
      "1 Bob_89\n",
      "<class 'str'>\n",
      "2 Cindy_99\n",
      "<class 'str'>\n",
      "3 Eric_78\n",
      "<class 'str'>\n",
      "4 Helen_97\n",
      "<class 'str'>\n",
      "5 Grace _93\n",
      "<class 'str'>\n"
     ]
    }
   ],
   "source": [
    "for i in np.arange(len(test_df)):\n",
    "    print(i, end=' ')\n",
    "    print(str(test_df.loc[i, 'name']) + '_' + str(test_df.loc[i, 'math']))\n",
    "    print(type(test_df.loc[i, 'name']))"
   ]
  },
  {
   "cell_type": "code",
   "execution_count": null,
   "metadata": {},
   "outputs": [],
   "source": []
  }
 ],
 "metadata": {
  "kernelspec": {
   "display_name": "Python 3",
   "language": "python",
   "name": "python3"
  },
  "language_info": {
   "codemirror_mode": {
    "name": "ipython",
    "version": 3
   },
   "file_extension": ".py",
   "mimetype": "text/x-python",
   "name": "python",
   "nbconvert_exporter": "python",
   "pygments_lexer": "ipython3",
   "version": "3.7.4"
  }
 },
 "nbformat": 4,
 "nbformat_minor": 2
}
