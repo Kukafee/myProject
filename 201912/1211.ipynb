{
 "cells": [
  {
   "cell_type": "code",
   "execution_count": 1,
   "metadata": {},
   "outputs": [
    {
     "name": "stderr",
     "output_type": "stream",
     "text": [
      "/Users/edz/opt/anaconda3/lib/python3.7/importlib/_bootstrap.py:219: RuntimeWarning: numpy.ufunc size changed, may indicate binary incompatibility. Expected 192 from C header, got 216 from PyObject\n",
      "  return f(*args, **kwds)\n"
     ]
    }
   ],
   "source": [
    "import os\n",
    "import numpy as np\n",
    "import pandas as pd\n",
    "from pandas import Series, DataFrame\n",
    "import time\n",
    "import matplotlib.pyplot as plt\n"
   ]
  },
  {
   "cell_type": "code",
   "execution_count": 5,
   "metadata": {},
   "outputs": [
    {
     "name": "stdout",
     "output_type": "stream",
     "text": [
      "<class 'pandas.core.frame.DataFrame'>\n",
      "(32, 3)\n",
      "                  mid                                      app_freq_list  \\\n",
      "1  P_79259119CAWHDHRY  [['3004', '480', '442', '166', '3090', '963', ...   \n",
      "2  P_7925911AF1TEULMT  [['56', '3021', '1573', '383', '1811'], [[1, 1...   \n",
      "3  P_7925911B7AKZERGR  [['66', '400134', '400012', '1143', '166', '30...   \n",
      "4  P_7925911B96PSYVVJ  [['66', '1468', '1573', '532', '3189', '383', ...   \n",
      "5  P_7925911BF4SXMURP  [['1573', '383', '1344'], [[5, 25, 3], [12, 28...   \n",
      "\n",
      "                                     label_freq_list  \n",
      "1  [['87', '88', '45', '23', '24', '25', '26', '1...  \n",
      "2  [['29', '95', '31'], [[1, 14, 3], [1, 50, 3], ...  \n",
      "3  [['88', '26', '28', '29', '143', '101', '145',...  \n",
      "4  [['26', '101', '144', '6', '95', '14', '18'], ...  \n",
      "5         [['95', '88'], [[12, 2916, 3], [1, 2, 3]]]  \n"
     ]
    }
   ],
   "source": [
    "filePath = '/Users/edz/pang/code/pycharm/myProject/data/appoutdata.csv'\n",
    "df_app = pd.read_csv(filePath, index_col=0)\n",
    "print(type(df_app))\n",
    "print(df_app.shape)\n",
    "print(df_app.head())"
   ]
  },
  {
   "cell_type": "code",
   "execution_count": null,
   "metadata": {},
   "outputs": [],
   "source": []
  }
 ],
 "metadata": {
  "kernelspec": {
   "display_name": "Python 3",
   "language": "python",
   "name": "python3"
  },
  "language_info": {
   "codemirror_mode": {
    "name": "ipython",
    "version": 3
   },
   "file_extension": ".py",
   "mimetype": "text/x-python",
   "name": "python",
   "nbconvert_exporter": "python",
   "pygments_lexer": "ipython3",
   "version": "3.7.4"
  }
 },
 "nbformat": 4,
 "nbformat_minor": 2
}
