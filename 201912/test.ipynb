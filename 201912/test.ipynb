{
 "cells": [
  {
   "cell_type": "code",
   "execution_count": 1,
   "metadata": {},
   "outputs": [],
   "source": [
    "import os\n",
    "import time\n",
    "import numpy as np\n",
    "import pandas as pd\n",
    "from pandas import Series, DataFrame"
   ]
  },
  {
   "cell_type": "code",
   "execution_count": 11,
   "metadata": {},
   "outputs": [
    {
     "name": "stdout",
     "output_type": "stream",
     "text": [
      "df_data初始值:\n",
      "                   mid  sex  age  income province city l_province l_ciyt  \\\n",
      "0  P_79259119CAWHDHRY    0   39       4       北京   北京        北京市     北京   \n",
      "\n",
      "  l_area                                 app_freq  \\\n",
      "0    大兴区  {\"3004\":{\"daycount\":1,\"pv\":3,\"freq\":3}}   \n",
      "\n",
      "                                label_freq        op       m  \n",
      "0  {\"139\":{\"daycount\":9,\"pv\":30,\"freq\":2}}  liantong  201909  \n"
     ]
    }
   ],
   "source": [
    "dicts = {'mid':'P_79259119CAWHDHRY', 'sex':0, 'age':39, 'income':4, 'province':'北京', 'city':'北京', 'l_province':'北京市', 'l_ciyt':'北京', 'l_area':'大兴区',\n",
    "                 'app_freq':'{\"3004\":{\"daycount\":1,\"pv\":3,\"freq\":3}}',\n",
    "                 'label_freq':'{\"139\":{\"daycount\":9,\"pv\":30,\"freq\":2}}', 'op':'liantong', 'm':201909}\n",
    "df_data = DataFrame(dicts, index=[0])\n",
    "print('df_data初始值:\\n', df_data)"
   ]
  },
  {
   "cell_type": "code",
   "execution_count": 13,
   "metadata": {},
   "outputs": [
    {
     "name": "stdout",
     "output_type": "stream",
     "text": [
      "df_data初始值:\n",
      "                   mid  sex  age  income province city l_province l_ciyt  \\\n",
      "0  P_79259119CAWHDHRY    0   39       4       北京   北京        北京市     北京   \n",
      "1          P_79259119    0   39       4       北京   北京        北京市     北京   \n",
      "\n",
      "  l_area                                 app_freq  \\\n",
      "0    大兴区  {\"3004\":{\"daycount\":1,\"pv\":3,\"freq\":3}}   \n",
      "1    大兴区  {\"3003\":{\"daycount\":1,\"pv\":3,\"freq\":3}}   \n",
      "\n",
      "                                 label_freq        op       m  \n",
      "0   {\"139\":{\"daycount\":9,\"pv\":30,\"freq\":2}}  liantong  201909  \n",
      "1  {\"3393\":{\"daycount\":9,\"pv\":30,\"freq\":2}}  liantong  201909  \n"
     ]
    }
   ],
   "source": [
    "dicts1 = {'mid':'P_79259119', 'sex':0, 'age':39, 'income':4, 'province':'北京', 'city':'北京', 'l_province':'北京市', 'l_ciyt':'北京', 'l_area':'大兴区',\n",
    "                 'app_freq':'{\"3003\":{\"daycount\":1,\"pv\":3,\"freq\":3}}',\n",
    "                 'label_freq':'{\"3393\":{\"daycount\":9,\"pv\":30,\"freq\":2}}', 'op':'liantong', 'm':201909}\n",
    "df_data.loc[1] = dicts1\n",
    "print('df_data初始值:\\n', df_data)"
   ]
  },
  {
   "cell_type": "code",
   "execution_count": 37,
   "metadata": {},
   "outputs": [
    {
     "name": "stdout",
     "output_type": "stream",
     "text": [
      "{\"3\":{\"daycount\":1,\"pv\":3,\"freq\":3}}\n",
      "<class 'str'>\n",
      "{'3': {'daycount': 1, 'pv': 3, 'freq': 3}}\n",
      "<class 'dict'>\n",
      "dict\n"
     ]
    }
   ],
   "source": [
    "dicts = [ '{\"3\":{\"daycount\":1,\"pv\":3,\"freq\":3}}']\n",
    "\n",
    "print(dicts[0])\n",
    "print(type(dicts[0]))\n",
    "dicts_dic = eval(dicts[0])\n",
    "print(dicts_dic)\n",
    "print(type(dicts_dic))\n",
    "\n",
    "if isinstance(dicts_dic, dict):\n",
    "    print(\"dict\")\n",
    "else:\n",
    "    print(\"not dict\")"
   ]
  },
  {
   "cell_type": "code",
   "execution_count": 38,
   "metadata": {},
   "outputs": [
    {
     "name": "stdout",
     "output_type": "stream",
     "text": [
      "字符串\n"
     ]
    }
   ],
   "source": [
    "if isinstance(\"中国\", int):\n",
    "    print(\"int\")\n",
    "else:\n",
    "    print(\"字符串\")"
   ]
  },
  {
   "cell_type": "code",
   "execution_count": 45,
   "metadata": {},
   "outputs": [
    {
     "name": "stdout",
     "output_type": "stream",
     "text": [
      "<class 'float'>\n"
     ]
    }
   ],
   "source": [
    "print(type(np.nan))"
   ]
  },
  {
   "cell_type": "code",
   "execution_count": 46,
   "metadata": {},
   "outputs": [
    {
     "name": "stdout",
     "output_type": "stream",
     "text": [
      "<class 'NoneType'>\n"
     ]
    }
   ],
   "source": [
    "print(type(None))"
   ]
  },
  {
   "cell_type": "code",
   "execution_count": 63,
   "metadata": {},
   "outputs": [
    {
     "name": "stdout",
     "output_type": "stream",
     "text": [
      "<class 'str'>\n",
      "{'3004': {'daycount': 1, 'pv': 3, 'freq': 3}, '3003': {'daycount': 1, 'pv': 3, 'freq': 3}, '3002': {'daycount': 1, 'pv': 3, 'freq': 3}}\n",
      "<class 'dict'>\n",
      "<class 'dict_keys'>\n",
      "['3004', '3003', '3002']\n"
     ]
    }
   ],
   "source": [
    "strs = '{\"3004\":{\"daycount\":1,\"pv\":3,\"freq\":3}, \"3003\":{\"daycount\":1,\"pv\":3,\"freq\":3}, \"3002\":{\"daycount\":1,\"pv\":3,\"freq\":3}}'\n",
    "\n",
    "print(type(strs))\n",
    "print(eval(strs))\n",
    "strs = eval(strs)\n",
    "print(type(strs))\n",
    "\n",
    "print(type(strs.keys()))\n",
    "listKey = list(strs.keys())\n",
    "    \n",
    "print(listKey)"
   ]
  },
  {
   "cell_type": "code",
   "execution_count": 65,
   "metadata": {},
   "outputs": [
    {
     "name": "stdout",
     "output_type": "stream",
     "text": [
      "                                                             app_freq\n",
      "P_7925911BF4SXMURP  {\"3004\":{\"daycount\":1,\"pv\":3,\"freq\":3}, \"3003\"...\n"
     ]
    }
   ],
   "source": [
    "strs = ['{\"3004\":{\"daycount\":1,\"pv\":3,\"freq\":3}, \"3003\":{\"daycount\":1,\"pv\":3,\"freq\":3}, \"3002\":{\"daycount\":1,\"pv\":3,\"freq\":3}}']\n",
    "df_data = DataFrame({'app_freq':strs}, index=['P_7925911BF4SXMURP'])\n",
    "print(df_data)"
   ]
  },
  {
   "cell_type": "code",
   "execution_count": 71,
   "metadata": {},
   "outputs": [
    {
     "data": {
      "text/plain": [
       "Series([], dtype: float64)"
      ]
     },
     "execution_count": 71,
     "metadata": {},
     "output_type": "execute_result"
    }
   ],
   "source": [
    "\n",
    "Ser_appFreq = Series([], index=[])\n",
    "Ser_appFreq.index.app_freq = 'mid'\n",
    "Ser_appFreq.index.app_freq = 'mid'\n",
    "Ser_appFreq.mid = 'kukafee'\n",
    "Ser_appFreq"
   ]
  },
  {
   "cell_type": "code",
   "execution_count": 75,
   "metadata": {},
   "outputs": [
    {
     "name": "stdout",
     "output_type": "stream",
     "text": [
      "[1, 2]\n"
     ]
    }
   ],
   "source": [
    "list1 = []\n",
    "list1.append(1)\n",
    "list1.append(2)\n",
    "print(list1)"
   ]
  },
  {
   "cell_type": "code",
   "execution_count": 83,
   "metadata": {},
   "outputs": [
    {
     "name": "stdout",
     "output_type": "stream",
     "text": [
      "<class 'list'>\n",
      "['6', '95']\n",
      "6\n",
      "[[1, 3, 3], [1, 60, 3]]\n",
      "[1, 3, 3]\n",
      "1\n"
     ]
    }
   ],
   "source": [
    "list_str = \"[['6', '95'], [[1, 3, 3], [1, 60, 3]]]\"\n",
    "list_value = eval(list_str)\n",
    "print(type(list_value))\n",
    "a0 = list_value[0]\n",
    "print(a0)\n",
    "a00 = list_value[0][0]\n",
    "print(a00)\n",
    "a1 = list_value[1]\n",
    "print(a1)\n",
    "a10 = list_value[1][0]\n",
    "print(a10)\n",
    "a10_0 = list_value[1][0][0]\n",
    "print(a10_0)"
   ]
  },
  {
   "cell_type": "code",
   "execution_count": 1,
   "metadata": {},
   "outputs": [],
   "source": [
    "from pandas import Series, DataFrame"
   ]
  },
  {
   "cell_type": "code",
   "execution_count": 2,
   "metadata": {},
   "outputs": [],
   "source": [
    "list1 = [-1, 0, 1]\n",
    "df_sex = DataFrame(list1)"
   ]
  },
  {
   "cell_type": "code",
   "execution_count": 3,
   "metadata": {},
   "outputs": [
    {
     "name": "stdout",
     "output_type": "stream",
     "text": [
      "   0\n",
      "0 -1\n",
      "1  0\n",
      "2  1\n"
     ]
    }
   ],
   "source": [
    "print(df_sex)"
   ]
  },
  {
   "cell_type": "code",
   "execution_count": null,
   "metadata": {},
   "outputs": [],
   "source": []
  }
 ],
 "metadata": {
  "kernelspec": {
   "display_name": "Python 3",
   "language": "python",
   "name": "python3"
  },
  "language_info": {
   "codemirror_mode": {
    "name": "ipython",
    "version": 3
   },
   "file_extension": ".py",
   "mimetype": "text/x-python",
   "name": "python",
   "nbconvert_exporter": "python",
   "pygments_lexer": "ipython3",
   "version": "3.7.4"
  }
 },
 "nbformat": 4,
 "nbformat_minor": 2
}
